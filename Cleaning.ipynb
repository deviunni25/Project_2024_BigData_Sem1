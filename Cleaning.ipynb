{
 "cells": [
  {
   "cell_type": "code",
   "execution_count": 2,
   "metadata": {},
   "outputs": [
    {
     "name": "stderr",
     "output_type": "stream",
     "text": [
      "C:\\Users\\email\\AppData\\Local\\Temp\\ipykernel_26808\\1951957909.py:2: DeprecationWarning: \n",
      "Pyarrow will become a required dependency of pandas in the next major release of pandas (pandas 3.0),\n",
      "(to allow more performant data types, such as the Arrow string type, and better interoperability with other libraries)\n",
      "but was not found to be installed on your system.\n",
      "If this would cause problems for you,\n",
      "please provide us feedback at https://github.com/pandas-dev/pandas/issues/54466\n",
      "        \n",
      "  import pandas as pd\n"
     ]
    }
   ],
   "source": [
    "# Importing the neccessary library for data cleaning\n",
    "import pandas as pd"
   ]
  },
  {
   "cell_type": "code",
   "execution_count": 3,
   "metadata": {},
   "outputs": [
    {
     "name": "stdout",
     "output_type": "stream",
     "text": [
      "Data fetched successfully\n"
     ]
    }
   ],
   "source": [
    "# reading the csv file into pandas dataframe\n",
    "df=pd.read_csv(\"C:/Users/email/Downloads/car_prices.csv\")\n",
    "print(\"Data fetched successfully\")\n",
    "# To reduce the data size as MongoDB can accomodate only 512 MB selecting the top 250000 and filtering data where year>2007\n",
    "df = df.head(250000)\n",
    "df = df[df['year'] > 2007]"
   ]
  },
  {
   "cell_type": "code",
   "execution_count": 4,
   "metadata": {},
   "outputs": [
    {
     "name": "stdout",
     "output_type": "stream",
     "text": [
      "Values in at least one column are of different data types.\n"
     ]
    }
   ],
   "source": [
    "# Check if all values in all columns are of the same data type\n",
    "same_dtype = True\n",
    "for column in df.columns:\n",
    "    unique_data_types = df[column].apply(type).nunique()\n",
    "    if unique_data_types != 1:\n",
    "        same_dtype = False\n",
    "        break\n",
    "\n",
    "if same_dtype:\n",
    "    print(\"All values in all columns are of the same data type.\")\n",
    "else:\n",
    "    print(\"Values in at least one column are of different data types.\")\n"
   ]
  },
  {
   "cell_type": "code",
   "execution_count": 5,
   "metadata": {},
   "outputs": [
    {
     "name": "stdout",
     "output_type": "stream",
     "text": [
      "Converting the string type to numeric\n"
     ]
    }
   ],
   "source": [
    "# Clean and convert 'sellingprice' column to numeric type\n",
    "df['sellingprice'] = pd.to_numeric(df['sellingprice'], errors='coerce').astype('Int64')\n",
    "\n",
    "# Clean and convert 'mmr' column to numeric type\n",
    "df['mmr'] = pd.to_numeric(df['mmr'], errors='coerce').astype('Int64')\n",
    "\n",
    "# Clean and convert 'odometer' column to numeric type\n",
    "df['odometer'] = pd.to_numeric(df['odometer'], errors='coerce').astype('Int64')\n",
    "\n",
    "# Clean and convert 'rating' column to numeric type\n",
    "df['condition'] = pd.to_numeric(df['condition'], errors='coerce').astype('Int64')\n",
    "\n",
    "\n",
    "print(\"Converting the string type to numeric\")"
   ]
  },
  {
   "cell_type": "code",
   "execution_count": 6,
   "metadata": {},
   "outputs": [
    {
     "name": "stdout",
     "output_type": "stream",
     "text": [
      "Null values count before cleaning\n",
      "year                0\n",
      "make             1042\n",
      "model            1084\n",
      "trim             1065\n",
      "body             1663\n",
      "transmission    20931\n",
      "vin                 0\n",
      "state               0\n",
      "condition        3648\n",
      "odometer            9\n",
      "color             287\n",
      "interior          287\n",
      "seller              0\n",
      "mmr                 0\n",
      "sellingprice        0\n",
      "saledate            0\n",
      "dtype: int64\n",
      "Null values is replaced and droppped\n",
      "Null values count after cleaning\n",
      "year            0\n",
      "make            0\n",
      "model           0\n",
      "trim            0\n",
      "body            0\n",
      "transmission    0\n",
      "vin             0\n",
      "state           0\n",
      "condition       0\n",
      "odometer        0\n",
      "color           0\n",
      "interior        0\n",
      "seller          0\n",
      "mmr             0\n",
      "sellingprice    0\n",
      "saledate        0\n",
      "dtype: int64\n"
     ]
    }
   ],
   "source": [
    "# Checking for null values \n",
    "print(\"Null values count before cleaning\")\n",
    "print(df.isna().sum())\n",
    "\n",
    "# Fill missing values with 'NA' category\n",
    "df['make'] = df['make'].fillna('NA')\n",
    "df['model'] = df['model'].fillna('NA')\n",
    "df['trim'] = df['trim'].fillna('NA')\n",
    "df['color'] = df['color'].fillna('NA')\n",
    "df['interior'] = df['interior'].fillna('NA')\n",
    "\n",
    "# Fill missing values with mode or'0' --- mode means most frequently appearing value\n",
    "df['body'] = df['body'].fillna(df['body'].mode()[0])\n",
    "df['transmission'] = df['transmission'].fillna(df['transmission'].mode()[0])\n",
    "df['condition'] = df['condition'].fillna(df['condition'].mode()[0])\n",
    "df['odometer'] = df['odometer'].fillna(0)\n",
    "\n",
    "# Convert the sellingprice column to integers\n",
    "df['sellingprice'] = df['sellingprice'].round(0).astype(int)\n",
    "\n",
    "# Remove null values\n",
    "df.dropna(subset = ['vin'], inplace=True)\n",
    "df.dropna(subset = ['saledate'],inplace=True)\n",
    "\n",
    "print(\"Null values is replaced and droppped\")\n",
    "\n",
    "# Display the DataFrame to verify the changes\n",
    "print(\"Null values count after cleaning\")\n",
    "print(df.isna().sum())"
   ]
  },
  {
   "cell_type": "code",
   "execution_count": 7,
   "metadata": {},
   "outputs": [
    {
     "name": "stdout",
     "output_type": "stream",
     "text": [
      "Columns containing special characters: ['make', 'model', 'trim', 'body', 'color', 'interior', 'seller', 'saledate']\n"
     ]
    }
   ],
   "source": [
    "# Define a regular expression pattern to match special characters\n",
    "pattern = r'[^a-zA-Z0-9\\s]'  # Matches any character that is not a letter, digit, or whitespace\n",
    "\n",
    "# Identify columns containing special characters\n",
    "columns_with_special_chars = []\n",
    "for column in df.columns:\n",
    "    if any(df[column].astype(str).str.contains(pattern)):\n",
    "        columns_with_special_chars.append(column)\n",
    "\n",
    "# Print the columns containing special characters\n",
    "print(\"Columns containing special characters:\", columns_with_special_chars)"
   ]
  },
  {
   "cell_type": "code",
   "execution_count": 8,
   "metadata": {},
   "outputs": [
    {
     "name": "stdout",
     "output_type": "stream",
     "text": [
      "Replaced special characters through boolean masking\n"
     ]
    }
   ],
   "source": [
    "# Here we are cleaning the 'color' and 'interior' columns as special charcters are not acceptable for both.\n",
    "# Create a boolean mask to identify rows containing special characters in the 'color' and 'interior' columns and replacing with 'NA'\n",
    "# Define the regular expression pattern to match special characters\n",
    "pattern = r'[^a-zA-Z0-9\\s]'  # Matches any character that is not a letter, digit, or whitespace\n",
    "mask = df['interior'].str.contains(pattern)\n",
    "df.loc[mask, 'interior'] = 'NA'\n",
    "\n",
    "mask = df['color'].str.contains(pattern)\n",
    "df.loc[mask, 'color'] = 'NA'\n",
    "\n",
    "print(\"Replaced special characters through boolean masking\" )"
   ]
  },
  {
   "cell_type": "code",
   "execution_count": 9,
   "metadata": {},
   "outputs": [
    {
     "name": "stdout",
     "output_type": "stream",
     "text": [
      "Renamed the column conditon to rating for better understanding\n"
     ]
    }
   ],
   "source": [
    "\n",
    "# Rename column 'condition' to 'rating'\n",
    "df.rename(columns={'condition': 'rating'}, inplace=True)\n",
    "print(\"Renamed the column conditon to rating for better understanding\")"
   ]
  },
  {
   "cell_type": "code",
   "execution_count": 10,
   "metadata": {},
   "outputs": [
    {
     "name": "stdout",
     "output_type": "stream",
     "text": [
      "Successfullly saved cleaned data to D:/PROJECTS/NOSQL/PandasOutputAfterDataCleaning/car_prices_cleaned.csv\n"
     ]
    }
   ],
   "source": [
    "\n",
    "# Saving the result back to a csv file\n",
    "df.to_csv(\"D:/PROJECTS/NOSQL/PandasOutputAfterDataCleaning/car_prices_cleaned.csv\",index=False)\n",
    "print(\"Successfullly saved cleaned data to D:/PROJECTS/NOSQL/PandasOutputAfterDataCleaning/car_prices_cleaned.csv\")"
   ]
  }
 ],
 "metadata": {
  "kernelspec": {
   "display_name": "Python 3",
   "language": "python",
   "name": "python3"
  },
  "language_info": {
   "codemirror_mode": {
    "name": "ipython",
    "version": 3
   },
   "file_extension": ".py",
   "mimetype": "text/x-python",
   "name": "python",
   "nbconvert_exporter": "python",
   "pygments_lexer": "ipython3",
   "version": "3.12.1"
  }
 },
 "nbformat": 4,
 "nbformat_minor": 2
}
